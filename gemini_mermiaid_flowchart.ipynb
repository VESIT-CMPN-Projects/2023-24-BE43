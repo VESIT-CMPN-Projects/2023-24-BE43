{
  "nbformat": 4,
  "nbformat_minor": 0,
  "metadata": {
    "colab": {
      "provenance": []
    },
    "kernelspec": {
      "name": "python3",
      "display_name": "Python 3"
    },
    "language_info": {
      "name": "python"
    }
  },
  "cells": [
    {
      "cell_type": "code",
      "source": [
        "!pip install -q -U google-generativeai"
      ],
      "metadata": {
        "id": "viPV4-EhQdQC"
      },
      "execution_count": null,
      "outputs": []
    },
    {
      "cell_type": "code",
      "source": [
        "import pathlib\n",
        "import textwrap\n",
        "\n",
        "import google.generativeai as genai\n",
        "\n",
        "from IPython.display import display\n",
        "from IPython.display import Markdown\n",
        "\n",
        "\n",
        "def to_markdown(text):\n",
        "  text = text.replace('•', '  *')\n",
        "  return Markdown(textwrap.indent(text, '> ', predicate=lambda _: True))"
      ],
      "metadata": {
        "id": "pomtddhzQfWR"
      },
      "execution_count": null,
      "outputs": []
    },
    {
      "cell_type": "code",
      "source": [
        "# Used to securely store your API key\n",
        "from google.colab import userdata"
      ],
      "metadata": {
        "id": "XgTHsRu4QiJ2"
      },
      "execution_count": null,
      "outputs": []
    },
    {
      "cell_type": "code",
      "source": [
        "GOOGLE_API_KEY=userdata.get('GOOGLE_API_KEY')\n",
        "\n",
        "genai.configure(api_key=GOOGLE_API_KEY)"
      ],
      "metadata": {
        "id": "Vo8S-68WQtGp"
      },
      "execution_count": null,
      "outputs": []
    },
    {
      "cell_type": "code",
      "source": [
        "model = genai.GenerativeModel('gemini-pro')"
      ],
      "metadata": {
        "id": "X568mXRIS1Q3"
      },
      "execution_count": null,
      "outputs": []
    },
    {
      "cell_type": "code",
      "source": [
        "def create_mermaid_code(user_input):\n",
        "    # Assuming \"model\" is your Gemini model\n",
        "    prompt = f\"Give mermaid code with correct syntax for a flowchart to visualize the process of {user_input}\"\n",
        "    response = model.generate_content(prompt)\n",
        "    mermaid_code = response.text\n",
        "\n",
        "    return mermaid_code\n",
        "# Get user input\n",
        "user_input = input(\"Describe the type of flowchart you want to create: \")\n",
        "\n",
        "# Generate Mermaid code with Gemini model\n",
        "mermaid_code = create_mermaid_code(user_input)\n",
        "\n",
        "# Print instructions and Mermaid code\n",
        "print(mermaid_code)\n"
      ],
      "metadata": {
        "colab": {
          "base_uri": "https://localhost:8080/",
          "height": 191
        },
        "id": "n0A500_sUoIA",
        "outputId": "4afff0fb-e76c-4944-9620-1c63beab10c8"
      },
      "execution_count": null,
      "outputs": [
        {
          "output_type": "stream",
          "name": "stdout",
          "text": [
            "Describe the type of flowchart you want to create: area of a circle\n",
            "```mermaid\n",
            "graph LR\n",
            "subgraph Area of a Circle\n",
            "    A[Start] --> B[Get radius]\n",
            "    B --> C[Calculate area: πr^2]\n",
            "    C --> D[Display area]\n",
            "    D --> E[End]\n",
            "end\n",
            "```\n"
          ]
        }
      ]
    },
    {
      "cell_type": "code",
      "source": [],
      "metadata": {
        "id": "rHOlSb-tg9-H"
      },
      "execution_count": null,
      "outputs": []
    },
    {
      "cell_type": "code",
      "execution_count": null,
      "metadata": {
        "colab": {
          "base_uri": "https://localhost:8080/"
        },
        "id": "AxtANAneMYXP",
        "outputId": "c0901a26-8598-493c-ca24-1ba62c391f65"
      },
      "outputs": [
        {
          "output_type": "stream",
          "name": "stdout",
          "text": [
            "Requirement already satisfied: requests in /usr/local/lib/python3.10/dist-packages (2.31.0)\n",
            "Requirement already satisfied: charset-normalizer<4,>=2 in /usr/local/lib/python3.10/dist-packages (from requests) (3.3.2)\n",
            "Requirement already satisfied: idna<4,>=2.5 in /usr/local/lib/python3.10/dist-packages (from requests) (3.6)\n",
            "Requirement already satisfied: urllib3<3,>=1.21.1 in /usr/local/lib/python3.10/dist-packages (from requests) (2.0.7)\n",
            "Requirement already satisfied: certifi>=2017.4.17 in /usr/local/lib/python3.10/dist-packages (from requests) (2024.2.2)\n"
          ]
        }
      ],
      "source": [
        "!pip install requests\n"
      ]
    },
    {
      "cell_type": "code",
      "source": [
        "def create_mermaid_code(user_input):\n",
        "    # Assuming \"model\" is your Gemini model\n",
        "    prompt = f\"Give mermaid code with correct syntax for a flowchart to visualize the process of {user_input}\"\n",
        "    response = model.generate_content(prompt)\n",
        "    mermaid_code = response.text\n",
        "\n",
        "    return mermaid_code\n",
        "# Get user input\n",
        "user_input = input(\"Describe the type of flowchart you want to create: \")\n",
        "\n",
        "# Generate Mermaid code with Gemini model\n",
        "mermaid_code = create_mermaid_code(user_input)\n",
        "\n",
        "# Print instructions and Mermaid code\n",
        "print(mermaid_code)\n"
      ],
      "metadata": {
        "colab": {
          "base_uri": "https://localhost:8080/",
          "height": 538
        },
        "outputId": "762f8b76-09e5-4612-d4e1-a5e4a04af162",
        "id": "g54sDpe1hI56"
      },
      "execution_count": null,
      "outputs": [
        {
          "output_type": "stream",
          "name": "stdout",
          "text": [
            "Describe the type of flowchart you want to create: bubble sort algorithm\n",
            "```mermaid\n",
            "graph LR\n",
            "subgraph bubbleSort\n",
            "    a[1] --> a[2]\n",
            "    a[2] --> a[3]\n",
            "    a[3] --> a[4]\n",
            "    a[4] --> a[5]\n",
            "    a[5] --> a[1]\n",
            "    b[1] --> b[2]\n",
            "    b[2] --> b[3]\n",
            "    b[3] --> b[4]\n",
            "    b[4] --> b[5]\n",
            "    b[5] --> b[1]\n",
            "    c[1] --> c[2]\n",
            "    c[2] --> c[3]\n",
            "    c[3] --> c[4]\n",
            "    c[4] --> c[5]\n",
            "    c[5] --> c[1]\n",
            "    while (i != 5)\n",
            "        if (a[i] > a[i + 1])\n",
            "            a[i] <-- a[i + 1]\n",
            "            a[i + 1] <-- a[i]\n",
            "            i <-- i + 1\n",
            "        else\n",
            "            i <-- i + 1\n",
            "    endwhile\n",
            "    end\n",
            "end\n",
            "```\n"
          ]
        }
      ]
    },
    {
      "cell_type": "code",
      "source": [
        "import requests\n",
        "import csv\n",
        "\n",
        "# Replace this with your actual Mermaid diagram code\n",
        "mermaid_code = \"\"\"\n",
        "graph TD\n",
        "    subgraph Dijkstra\n",
        "        start[Start]\n",
        "        priorityQueue[Priority Queue]\n",
        "        visited((\"Marked as Visited\"))\n",
        "\n",
        "        start -->|Initialize| priorityQueue\n",
        "        priorityQueue -->|Extract Min| current\n",
        "        current -->|Update Distances| priorityQueue\n",
        "        priorityQueue -->|Empty|end\n",
        "    end\n",
        "\n",
        "\"\"\"\n",
        "\n",
        "# API endpoint\n",
        "api_url = \"https://www.mermaidchart.com/rest-api/chatgpt/render-diagram\"\n",
        "\n",
        "# Make the GET request\n",
        "response = requests.get(api_url, params={\"mermaidCode\": mermaid_code})\n",
        "\n",
        "# Print the full response text for debugging\n",
        "print(\"Full Response Text:\", response.text)\n",
        "\n",
        "# Check if the request was successful (status code 200)\n",
        "if response.status_code == 200:\n",
        "    # Parse the JSON response\n",
        "    try:\n",
        "        response_data = response.json()\n",
        "        diagram_url = response_data.get(\"diagramUrl\")\n",
        "\n",
        "        # Check if diagram_url is not None\n",
        "        if diagram_url:\n",
        "            print(\"Generated Diagram URL:\", diagram_url)\n",
        "\n",
        "            # Save data to CSV file\n",
        "            with open('diagrams.csv', mode='a', newline='') as csv_file:\n",
        "                fieldnames = ['Mermaid Code', 'Diagram URL']\n",
        "                writer = csv.DictWriter(csv_file, fieldnames=fieldnames)\n",
        "\n",
        "                # Check if the file is empty and write header\n",
        "                if csv_file.tell() == 0:\n",
        "                    writer.writeheader()\n",
        "\n",
        "                writer.writerow({'Mermaid Code': mermaid_code, 'Diagram URL': diagram_url})\n",
        "\n",
        "            print(\"Data saved to diagrams.csv\")\n",
        "        else:\n",
        "            print(\"Error: Diagram URL not found in the response.\")\n",
        "    except ValueError:\n",
        "        print(\"Error: Unable to parse the JSON response.\")\n",
        "else:\n",
        "    print(\"Error:\", response.text)\n"
      ],
      "metadata": {
        "colab": {
          "base_uri": "https://localhost:8080/"
        },
        "id": "KuXtICuNMbjk",
        "outputId": "163fcfeb-3033-4fa3-9cc3-48be6176c149"
      },
      "execution_count": null,
      "outputs": [
        {
          "output_type": "stream",
          "name": "stdout",
          "text": [
            "Full Response Text: {\"message\":\"MermaidError: Parse error on line 10:\\n...rityQueue -->|Empty|end    end\\n-----------------------^\\nExpecting 'SPACE', 'AMP', 'COLON', 'DOWN', 'DEFAULT', 'NUM', 'COMMA', 'NODE_STRING', 'BRKT', 'MINUS', 'MULT', 'UNICODE_TEXT', got 'end'\"}\n",
            "Error: {\"message\":\"MermaidError: Parse error on line 10:\\n...rityQueue -->|Empty|end    end\\n-----------------------^\\nExpecting 'SPACE', 'AMP', 'COLON', 'DOWN', 'DEFAULT', 'NUM', 'COMMA', 'NODE_STRING', 'BRKT', 'MINUS', 'MULT', 'UNICODE_TEXT', got 'end'\"}\n"
          ]
        }
      ]
    },
    {
      "cell_type": "code",
      "source": [],
      "metadata": {
        "id": "geZHBqfO2hFq"
      },
      "execution_count": null,
      "outputs": []
    }
  ]
}